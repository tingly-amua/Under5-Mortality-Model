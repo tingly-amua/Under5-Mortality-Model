{
 "cells": [
  {
   "cell_type": "markdown",
   "id": "4f621e43",
   "metadata": {},
   "source": [
    "# Baseline Model"
   ]
  },
  {
   "cell_type": "code",
   "execution_count": 33,
   "id": "238cdb51",
   "metadata": {},
   "outputs": [],
   "source": [
    "import pandas as pd\n",
    "import numpy as np\n",
    "import matplotlib.pyplot as plt\n",
    "from sklearn.preprocessing import OneHotEncoder, StandardScaler\n",
    "from imblearn.over_sampling   import SMOTE\n",
    "from sklearn.model_selection import train_test_split\n",
    "from sklearn.metrics import accuracy_score, f1_score, confusion_matrix, classification_report, roc_auc_score, precision_recall_curve, auc, fbeta_score\n",
    "from sklearn.linear_model import LogisticRegression\n",
    "import seaborn as sns\n",
    "from sklearn.compose import ColumnTransformer\n",
    "from imblearn.pipeline import Pipeline"
   ]
  },
  {
   "cell_type": "code",
   "execution_count": 15,
   "id": "e5ce6b37",
   "metadata": {},
   "outputs": [],
   "source": [
    "df=pd.read_csv('u5mr_clean.csv')"
   ]
  },
  {
   "cell_type": "code",
   "execution_count": 16,
   "id": "ec087db5",
   "metadata": {},
   "outputs": [],
   "source": [
    "# Make a safe working copy\n",
    "df = df.copy()\n",
    "\n",
    "# Object ID\n",
    "df['CASEID'] = df['CASEID'].astype('object')\n",
    "\n",
    "# Continuous floats\n",
    "float_vars = [\n",
    "    'Respondents current age',\n",
    "    'Birth weight in kilograms (3 decimals)',\n",
    "    'Childs weight in kilograms (1 decimal)',\n",
    "    'Childs height in centimeters (1 decimal)',\n",
    "    'Months of breastfeeding',\n",
    "    'When child put to breast',\n",
    "    'Height/Age standard deviation (new WHO)',\n",
    "    'Weight/Age standard deviation (new WHO)',\n",
    "    'Weight/Height standard deviation (new WHO)'\n",
    "]\n",
    "df[float_vars] = df[float_vars].apply(pd.to_numeric, errors=\"coerce\").astype('float64')\n",
    "\n",
    "# Discrete ints (nullable safe type)\n",
    "int_vars = [\n",
    "    'Number of household members (listed)',\n",
    "    'Birth order number',\n",
    "    'Preceding birth interval (months)',\n",
    "    'Succeeding birth interval (months)',\n",
    "    'Duration of pregnancy in months',\n",
    "    'Timing of 1st antenatal check (months)',\n",
    "    'Number of antenatal visits during pregnancy',\n",
    "    'Entries in pregnancy and postnatal care roster',\n",
    "    'Minutes to nearest healthcare facility',\n",
    "    'Number of tetanus injections before birth',\n",
    "    'Number of tetanus injections before pregnancy'\n",
    "]\n",
    "df[int_vars] = df[int_vars].apply(pd.to_numeric, errors=\"coerce\").astype('Int64')\n",
    "\n",
    "# Categorical (nominal/ordinal)\n",
    "cat_vars = [\n",
    "    'Region',\n",
    "    'Type of place of residence',\n",
    "    'Highest educational level',\n",
    "    'Religion',\n",
    "    'Ethnicity',\n",
    "    'Wealth index combined',\n",
    "    'Type of cooking fuel (smoke exposure, indoor air pollution)',\n",
    "    'Sex of child',\n",
    "    'Place of delivery',\n",
    "    'Size of child at birth',\n",
    "    'Has health card and or other vaccination document',\n",
    "    'Ever had vaccination',\n",
    "    'Place where most vaccinations were received',\n",
    "    'Yellow fever vaccine',\n",
    "    'Currently breastfeeding',\n",
    "    'Given child anything other than breast milk',\n",
    "    'In contact with someone with cough or TB',\n",
    "    'Source of drinking water',\n",
    "    'Main floor material',\n",
    "    'Visited health facility last 12 months',\n",
    "    'Getting medical help for self: distance to health facility',\n",
    "    'Mode of transportation to nearest healthcare facility',\n",
    "]\n",
    "df[cat_vars] = df[cat_vars].astype('category')"
   ]
  },
  {
   "cell_type": "code",
   "execution_count": 17,
   "id": "ff5470ad",
   "metadata": {},
   "outputs": [],
   "source": [
    "# pattern to drop all columns that end with '_missing' or contain 'vaccine'\n",
    "leakage_cols = [col for col in df.columns\n",
    "                if col.endswith('_missing')\n",
    "                or 'vaccine' in col.lower()\n",
    "                or 'Received' in col]\n",
    "\n",
    "# explicitly drop known outcome columns\n",
    "outcome_cols = [\n",
    "    'under5_mortality','infant_mortality','neonatal_mortality',\n",
    "    'mortality_category'\n",
    "]"
   ]
  },
  {
   "cell_type": "code",
   "execution_count": 18,
   "id": "18a1a872",
   "metadata": {},
   "outputs": [
    {
     "data": {
      "text/plain": [
       "['Received BCG',\n",
       " 'Received DPT 3',\n",
       " 'Received POLIO 3',\n",
       " 'Received MEASLES 2',\n",
       " 'Received inactivated polio (IPV)',\n",
       " 'Yellow fever vaccine',\n",
       " 'Preceding birth interval (months)_missing',\n",
       " 'Succeeding birth interval (months)_missing',\n",
       " 'Timing of 1st antenatal check (months)_missing',\n",
       " 'Number of antenatal visits during pregnancy_missing',\n",
       " 'Birth weight in kilograms (3 decimals)_missing',\n",
       " 'Ever had vaccination_missing',\n",
       " 'Months of breastfeeding_missing',\n",
       " 'When child put to breast_missing',\n",
       " 'Minutes to nearest healthcare facility_missing',\n",
       " 'Number of tetanus injections before birth_missing',\n",
       " 'Number of tetanus injections before pregnancy_missing',\n",
       " 'Place of delivery_missing',\n",
       " 'Size of child at birth_missing',\n",
       " 'Prenatal: doctor_missing',\n",
       " 'Prenatal: nurse/midwife/clinical officer_missing',\n",
       " 'Prenatal: traditional birth attendant_missing',\n",
       " 'Prenatal: Community health worker/field worker_missing',\n",
       " 'Has health card and or other vaccination document_missing',\n",
       " 'Received BCG_missing',\n",
       " 'Received DPT 3_missing',\n",
       " 'Received POLIO 3_missing',\n",
       " 'Received MEASLES 2_missing',\n",
       " 'Received inactivated polio (IPV)_missing',\n",
       " 'Place where most vaccinations were received_missing',\n",
       " 'Yellow fever vaccine_missing',\n",
       " 'Given child anything other than breast milk_missing',\n",
       " 'Visited health facility last 12 months_missing',\n",
       " 'Getting medical help for self: distance to health facility_missing',\n",
       " 'Mode of transportation to nearest healthcare facility_missing',\n",
       " 'Assistance: doctor_missing',\n",
       " 'Assistance: nurse/midwife/clinical officer_missing',\n",
       " 'Assistance: traditional birth attendant_missing',\n",
       " 'Assistance: Relative/friend_missing']"
      ]
     },
     "execution_count": 18,
     "metadata": {},
     "output_type": "execute_result"
    }
   ],
   "source": [
    "leakage_cols"
   ]
  },
  {
   "cell_type": "code",
   "execution_count": 19,
   "id": "7e7e1de9",
   "metadata": {},
   "outputs": [],
   "source": [
    "X = df.drop(columns=leakage_cols + outcome_cols + ['CASEID'])"
   ]
  },
  {
   "cell_type": "code",
   "execution_count": 20,
   "id": "b909086b",
   "metadata": {},
   "outputs": [
    {
     "name": "stdout",
     "output_type": "stream",
     "text": [
      "[('Childs weight in kilograms (1 decimal)', 'Childs height in centimeters (1 decimal)')]\n"
     ]
    }
   ],
   "source": [
    "corr = X.corr(numeric_only=True).abs()\n",
    "high_corr = np.where(corr > 0.9)\n",
    "pairs = [(corr.index[i], corr.columns[j])\n",
    "         for i,j in zip(*high_corr)\n",
    "         if i < j]\n",
    "print(pairs)"
   ]
  },
  {
   "cell_type": "code",
   "execution_count": 21,
   "id": "127cc6e0",
   "metadata": {},
   "outputs": [],
   "source": [
    "# create BMI column\n",
    "df['child_BMI'] = df['Childs weight in kilograms (1 decimal)'] / (\n",
    "    (df['Childs height in centimeters (1 decimal)'] / 100) ** 2\n",
    ")\n",
    "\n",
    "# drop originals to avoid multicollinearity\n",
    "df = df.drop(columns=[\n",
    "    'Childs weight in kilograms (1 decimal)',\n",
    "    'Childs height in centimeters (1 decimal)'\n",
    "])\n",
    "df['child_BMI'] = df['child_BMI'].round(2)"
   ]
  },
  {
   "cell_type": "code",
   "execution_count": 22,
   "id": "361b488d",
   "metadata": {},
   "outputs": [],
   "source": [
    "cat_cols = X.select_dtypes(include=['object','category']).columns\n",
    "num_cols = X.select_dtypes(exclude=['object','category']).columns"
   ]
  },
  {
   "cell_type": "code",
   "execution_count": 23,
   "id": "bb00ab6d",
   "metadata": {},
   "outputs": [
    {
     "data": {
      "text/plain": [
       "Index(['Region', 'Type of place of residence', 'Highest educational level',\n",
       "       'Religion', 'Ethnicity', 'Wealth index combined',\n",
       "       'Type of cooking fuel (smoke exposure, indoor air pollution)',\n",
       "       'Sex of child', 'Place of delivery', 'Size of child at birth',\n",
       "       'Has health card and or other vaccination document',\n",
       "       'Ever had vaccination', 'Place where most vaccinations were received',\n",
       "       'Currently breastfeeding',\n",
       "       'Given child anything other than breast milk',\n",
       "       'In contact with someone with cough or TB', 'Source of drinking water',\n",
       "       'Main floor material', 'Visited health facility last 12 months',\n",
       "       'Getting medical help for self: distance to health facility',\n",
       "       'Mode of transportation to nearest healthcare facility'],\n",
       "      dtype='object')"
      ]
     },
     "execution_count": 23,
     "metadata": {},
     "output_type": "execute_result"
    }
   ],
   "source": [
    "\n",
    "cat_cols"
   ]
  },
  {
   "cell_type": "code",
   "execution_count": 24,
   "id": "6fe9944a",
   "metadata": {},
   "outputs": [
    {
     "name": "stdout",
     "output_type": "stream",
     "text": [
      "<class 'pandas.core.frame.DataFrame'>\n",
      "RangeIndex: 19530 entries, 0 to 19529\n",
      "Data columns (total 93 columns):\n",
      " #   Column                                                              Non-Null Count  Dtype   \n",
      "---  ------                                                              --------------  -----   \n",
      " 0   CASEID                                                              19530 non-null  object  \n",
      " 1   Respondents current age                                             19530 non-null  float64 \n",
      " 2   Region                                                              19530 non-null  category\n",
      " 3   Type of place of residence                                          19530 non-null  category\n",
      " 4   Highest educational level                                           19530 non-null  category\n",
      " 5   Religion                                                            19530 non-null  category\n",
      " 6   Ethnicity                                                           19530 non-null  category\n",
      " 7   Number of household members (listed)                                19530 non-null  Int64   \n",
      " 8   Wealth index combined                                               19530 non-null  category\n",
      " 9   Type of cooking fuel (smoke exposure, indoor air pollution)         19530 non-null  category\n",
      " 10  Birth order number                                                  19530 non-null  Int64   \n",
      " 11  Sex of child                                                        19530 non-null  category\n",
      " 12  Preceding birth interval (months)                                   19530 non-null  Int64   \n",
      " 13  Succeeding birth interval (months)                                  19530 non-null  Int64   \n",
      " 14  Duration of pregnancy in months                                     19530 non-null  Int64   \n",
      " 15  Timing of 1st antenatal check (months)                              19530 non-null  Int64   \n",
      " 16  Number of antenatal visits during pregnancy                         19530 non-null  Int64   \n",
      " 17  Place of delivery                                                   19530 non-null  category\n",
      " 18  Size of child at birth                                              19530 non-null  category\n",
      " 19  Birth weight in kilograms (3 decimals)                              19530 non-null  float64 \n",
      " 20  Prenatal: doctor                                                    19530 non-null  float64 \n",
      " 21  Prenatal: nurse/midwife/clinical officer                            19530 non-null  float64 \n",
      " 22  Prenatal: traditional birth attendant                               19530 non-null  float64 \n",
      " 23  Prenatal: Community health worker/field worker                      19530 non-null  float64 \n",
      " 24  Has health card and or other vaccination document                   19530 non-null  category\n",
      " 25  Received BCG                                                        19530 non-null  float64 \n",
      " 26  Received DPT 3                                                      19530 non-null  float64 \n",
      " 27  Received POLIO 3                                                    19530 non-null  float64 \n",
      " 28  Received MEASLES 2                                                  19530 non-null  float64 \n",
      " 29  Received inactivated polio (IPV)                                    19530 non-null  float64 \n",
      " 30  Ever had vaccination                                                19530 non-null  category\n",
      " 31  Place where most vaccinations were received                         19530 non-null  category\n",
      " 32  Yellow fever vaccine                                                19530 non-null  category\n",
      " 33  Currently breastfeeding                                             19530 non-null  category\n",
      " 34  Months of breastfeeding                                             19530 non-null  float64 \n",
      " 35  When child put to breast                                            19530 non-null  float64 \n",
      " 36  Given child anything other than breast milk                         19530 non-null  category\n",
      " 37  Height/Age standard deviation (new WHO)                             19530 non-null  float64 \n",
      " 38  Weight/Age standard deviation (new WHO)                             19530 non-null  float64 \n",
      " 39  Weight/Height standard deviation (new WHO)                          19530 non-null  float64 \n",
      " 40  In contact with someone with cough or TB                            19530 non-null  category\n",
      " 41  Source of drinking water                                            19530 non-null  category\n",
      " 42  Main floor material                                                 19530 non-null  category\n",
      " 43  Visited health facility last 12 months                              19530 non-null  category\n",
      " 44  Entries in pregnancy and postnatal care roster                      19530 non-null  Int64   \n",
      " 45  Getting medical help for self: distance to health facility          19530 non-null  category\n",
      " 46  Minutes to nearest healthcare facility                              19530 non-null  Int64   \n",
      " 47  Mode of transportation to nearest healthcare facility               19530 non-null  category\n",
      " 48  Number of tetanus injections before birth                           19530 non-null  Int64   \n",
      " 49  Number of tetanus injections before pregnancy                       19530 non-null  Int64   \n",
      " 50  Assistance: doctor                                                  19530 non-null  float64 \n",
      " 51  Assistance: nurse/midwife/clinical officer                          19530 non-null  float64 \n",
      " 52  Assistance: traditional birth attendant                             19530 non-null  float64 \n",
      " 53  Assistance: Relative/friend                                         19530 non-null  float64 \n",
      " 54  under5_mortality                                                    19530 non-null  int64   \n",
      " 55  infant_mortality                                                    19530 non-null  int64   \n",
      " 56  neonatal_mortality                                                  19530 non-null  int64   \n",
      " 57  mortality_category                                                  19530 non-null  object  \n",
      " 58  child_death_history                                                 19530 non-null  int64   \n",
      " 59  Preceding birth interval (months)_missing                           19530 non-null  int64   \n",
      " 60  Succeeding birth interval (months)_missing                          19530 non-null  int64   \n",
      " 61  Timing of 1st antenatal check (months)_missing                      19530 non-null  int64   \n",
      " 62  Number of antenatal visits during pregnancy_missing                 19530 non-null  int64   \n",
      " 63  Birth weight in kilograms (3 decimals)_missing                      19530 non-null  int64   \n",
      " 64  Ever had vaccination_missing                                        19530 non-null  int64   \n",
      " 65  Months of breastfeeding_missing                                     19530 non-null  int64   \n",
      " 66  When child put to breast_missing                                    19530 non-null  int64   \n",
      " 67  Minutes to nearest healthcare facility_missing                      19530 non-null  int64   \n",
      " 68  Number of tetanus injections before birth_missing                   19530 non-null  int64   \n",
      " 69  Number of tetanus injections before pregnancy_missing               19530 non-null  int64   \n",
      " 70  Place of delivery_missing                                           19530 non-null  int64   \n",
      " 71  Size of child at birth_missing                                      19530 non-null  int64   \n",
      " 72  Prenatal: doctor_missing                                            19530 non-null  int64   \n",
      " 73  Prenatal: nurse/midwife/clinical officer_missing                    19530 non-null  int64   \n",
      " 74  Prenatal: traditional birth attendant_missing                       19530 non-null  int64   \n",
      " 75  Prenatal: Community health worker/field worker_missing              19530 non-null  int64   \n",
      " 76  Has health card and or other vaccination document_missing           19530 non-null  int64   \n",
      " 77  Received BCG_missing                                                19530 non-null  int64   \n",
      " 78  Received DPT 3_missing                                              19530 non-null  int64   \n",
      " 79  Received POLIO 3_missing                                            19530 non-null  int64   \n",
      " 80  Received MEASLES 2_missing                                          19530 non-null  int64   \n",
      " 81  Received inactivated polio (IPV)_missing                            19530 non-null  int64   \n",
      " 82  Place where most vaccinations were received_missing                 19530 non-null  int64   \n",
      " 83  Yellow fever vaccine_missing                                        19530 non-null  int64   \n",
      " 84  Given child anything other than breast milk_missing                 19530 non-null  int64   \n",
      " 85  Visited health facility last 12 months_missing                      19530 non-null  int64   \n",
      " 86  Getting medical help for self: distance to health facility_missing  19530 non-null  int64   \n",
      " 87  Mode of transportation to nearest healthcare facility_missing       19530 non-null  int64   \n",
      " 88  Assistance: doctor_missing                                          19530 non-null  int64   \n",
      " 89  Assistance: nurse/midwife/clinical officer_missing                  19530 non-null  int64   \n",
      " 90  Assistance: traditional birth attendant_missing                     19530 non-null  int64   \n",
      " 91  Assistance: Relative/friend_missing                                 19530 non-null  int64   \n",
      " 92  child_BMI                                                           19530 non-null  float64 \n",
      "dtypes: Int64(11), category(22), float64(21), int64(37), object(2)\n",
      "memory usage: 11.2+ MB\n"
     ]
    }
   ],
   "source": [
    "df.info(50)"
   ]
  },
  {
   "cell_type": "code",
   "execution_count": 25,
   "id": "3a00bead",
   "metadata": {},
   "outputs": [],
   "source": [
    "# Preprocessing: scale numeric + one-hot encode categoricals\n",
    "preprocessor = ColumnTransformer([\n",
    "    ('num', StandardScaler(), num_cols),\n",
    "    ('cat', OneHotEncoder(handle_unknown='ignore'), cat_cols)\n",
    "])\n",
    "\n",
    "baseline_pipe = Pipeline([\n",
    "    ('preprocessor', preprocessor),\n",
    "    ('logreg', LogisticRegression(max_iter=1000))\n",
    "])"
   ]
  },
  {
   "cell_type": "code",
   "execution_count": 31,
   "id": "28d4c390",
   "metadata": {},
   "outputs": [],
   "source": [
    "def baseline_logistic(X, y, target_name):\n",
    "    # Split\n",
    "    X_train, X_test, y_train, y_test = train_test_split(\n",
    "        X, y, test_size=0.2, random_state=42, stratify=y\n",
    "    )\n",
    "\n",
    "    # Fit baseline model\n",
    "    baseline_pipe.fit(X_train, y_train)\n",
    "\n",
    "    # Predictions\n",
    "    y_pred  = baseline_pipe.predict(X_test)\n",
    "    y_proba = baseline_pipe.predict_proba(X_test)[:, 1]  # for AUC metrics\n",
    "\n",
    "    # --- Evaluation ---\n",
    "    print(f\"\\n--- Baseline Logistic Regression: {target_name} ---\")\n",
    "    print(f\"Accuracy: {accuracy_score(y_test, y_pred):.3f}\")\n",
    "    print(classification_report(y_test, y_pred, digits=3))\n",
    "\n",
    "    # F2 score\n",
    "    f2 = fbeta_score(y_test, y_pred, beta=2)\n",
    "    print(f\"F2 Score: {f2:.3f}\")\n",
    "\n",
    "    # ROC-AUC\n",
    "    roc = roc_auc_score(y_test, y_proba)\n",
    "    print(f\"ROC-AUC: {roc:.3f}\")\n",
    "\n",
    "    # Precision–Recall AUC\n",
    "    precision, recall, _ = precision_recall_curve(y_test, y_proba)\n",
    "    pr_auc = auc(recall, precision)\n",
    "    print(f\"PR-AUC: {pr_auc:.3f}\")\n",
    "\n",
    "    # Confusion matrix plot\n",
    "    cm = confusion_matrix(y_test, y_pred)\n",
    "    plt.figure(figsize=(4,3))\n",
    "    sns.heatmap(cm, annot=True, fmt='d', cmap='Blues',\n",
    "                xticklabels=['Pred 0','Pred 1'],\n",
    "                yticklabels=['True 0','True 1'])\n",
    "    plt.title(f\"Confusion Matrix: {target_name}\")\n",
    "    plt.show()"
   ]
  },
  {
   "cell_type": "code",
   "execution_count": 34,
   "id": "7aee66b0",
   "metadata": {},
   "outputs": [
    {
     "name": "stdout",
     "output_type": "stream",
     "text": [
      "\n",
      "--- Baseline Logistic Regression: Under-5 Mortality ---\n",
      "Accuracy: 0.978\n",
      "              precision    recall  f1-score   support\n",
      "\n",
      "           0      0.987     0.990     0.989      3767\n",
      "           1      0.709     0.647     0.677       139\n",
      "\n",
      "    accuracy                          0.978      3906\n",
      "   macro avg      0.848     0.819     0.833      3906\n",
      "weighted avg      0.977     0.978     0.978      3906\n",
      "\n",
      "F2 Score: 0.659\n",
      "ROC-AUC: 0.988\n",
      "PR-AUC: 0.736\n"
     ]
    },
    {
     "data": {
      "image/png": "[encoded data removed]",
      "text/plain": [
       "<Figure size 400x300 with 2 Axes>"
      ]
     },
     "metadata": {},
     "output_type": "display_data"
    },
    {
     "name": "stdout",
     "output_type": "stream",
     "text": [
      "\n",
      "--- Baseline Logistic Regression: Infant Mortality ---\n",
      "Accuracy: 0.990\n",
      "              precision    recall  f1-score   support\n",
      "\n",
      "           0      0.991     0.998     0.995      3870\n",
      "           1      0.143     0.028     0.047        36\n",
      "\n",
      "    accuracy                          0.990      3906\n",
      "   macro avg      0.567     0.513     0.521      3906\n",
      "weighted avg      0.983     0.990     0.986      3906\n",
      "\n",
      "F2 Score: 0.033\n",
      "ROC-AUC: 0.971\n",
      "PR-AUC: 0.194\n"
     ]
    },
    {
     "data": {
      "image/png": "[encoded data removed]",
      "text/plain": [
       "<Figure size 400x300 with 2 Axes>"
      ]
     },
     "metadata": {},
     "output_type": "display_data"
    },
    {
     "name": "stdout",
     "output_type": "stream",
     "text": [
      "\n",
      "--- Baseline Logistic Regression: Neonatal Mortality ---\n",
      "Accuracy: 0.984\n",
      "              precision    recall  f1-score   support\n",
      "\n",
      "           0      0.988     0.997     0.992      3819\n",
      "           1      0.750     0.448     0.561        87\n",
      "\n",
      "    accuracy                          0.984      3906\n",
      "   macro avg      0.869     0.722     0.777      3906\n",
      "weighted avg      0.982     0.984     0.982      3906\n",
      "\n",
      "F2 Score: 0.488\n",
      "ROC-AUC: 0.984\n",
      "PR-AUC: 0.647\n"
     ]
    },
    {
     "data": {
      "image/png": "[encoded data removed]",
      "text/plain": [
       "<Figure size 400x300 with 2 Axes>"
      ]
     },
     "metadata": {},
     "output_type": "display_data"
    }
   ],
   "source": [
    "baseline_logistic(X, df['under5_mortality'], 'Under-5 Mortality')\n",
    "baseline_logistic(X, df['infant_mortality'], 'Infant Mortality')\n",
    "baseline_logistic(X, df['neonatal_mortality'], 'Neonatal Mortality')"
   ]
  },
  {
   "cell_type": "markdown",
   "id": "19ad2aca",
   "metadata": {},
   "source": [
    "## Logistic Regression with SMOTE"
   ]
  },
  {
   "cell_type": "code",
   "execution_count": 35,
   "id": "de9e3b84",
   "metadata": {},
   "outputs": [],
   "source": [
    "smote_pipe = Pipeline([\n",
    "    ('preprocessor', preprocessor),      # <--- reuse the preprocessor you just built\n",
    "    ('smote', SMOTE(random_state=42)),\n",
    "    ('logreg', LogisticRegression(max_iter=1000))\n",
    "])"
   ]
  },
  {
   "cell_type": "code",
   "execution_count": 36,
   "id": "6353620b",
   "metadata": {},
   "outputs": [],
   "source": [
    "from sklearn.metrics import average_precision_score\n",
    "def logistic_with_smote(X, y, name):\n",
    "    X_train, X_test, y_train, y_test = train_test_split(\n",
    "        X, y, test_size=0.2, random_state=42, stratify=y\n",
    "    )\n",
    "\n",
    "    smote_pipe.fit(X_train, y_train)\n",
    "    y_pred = smote_pipe.predict(X_test)\n",
    "    y_prob = smote_pipe.predict_proba(X_test)[:, 1]   # probabilities for ROC/PR\n",
    "\n",
    "    print(f\"\\n--- Logistic Regression + SMOTE : {name} ---\")\n",
    "    print(\"Accuracy:\", accuracy_score(y_test, y_pred))\n",
    "    print(classification_report(y_test, y_pred))\n",
    "    print(\"F2 Score:\", fbeta_score(y_test, y_pred, beta=2))\n",
    "    print(\"ROC-AUC:\", roc_auc_score(y_test, y_prob))\n",
    "    print(\"PR-AUC:\", average_precision_score(y_test, y_prob))"
   ]
  },
  {
   "cell_type": "code",
   "execution_count": 37,
   "id": "ea610b45",
   "metadata": {},
   "outputs": [
    {
     "name": "stdout",
     "output_type": "stream",
     "text": [
      "\n",
      "--- Logistic Regression + SMOTE : Under-5 Mortality ---\n",
      "Accuracy: 0.9572452636968766\n",
      "              precision    recall  f1-score   support\n",
      "\n",
      "           0       1.00      0.96      0.98      3767\n",
      "           1       0.45      0.96      0.61       139\n",
      "\n",
      "    accuracy                           0.96      3906\n",
      "   macro avg       0.73      0.96      0.80      3906\n",
      "weighted avg       0.98      0.96      0.96      3906\n",
      "\n",
      "F2 Score: 0.7823529411764705\n",
      "ROC-AUC: 0.9878402560669809\n",
      "PR-AUC: 0.6954850228413343\n",
      "\n",
      "--- Logistic Regression + SMOTE : Infant Mortality ---\n",
      "Accuracy: 0.9544290834613415\n",
      "              precision    recall  f1-score   support\n",
      "\n",
      "           0       1.00      0.96      0.98      3870\n",
      "           1       0.13      0.67      0.21        36\n",
      "\n",
      "    accuracy                           0.95      3906\n",
      "   macro avg       0.56      0.81      0.59      3906\n",
      "weighted avg       0.99      0.95      0.97      3906\n",
      "\n",
      "F2 Score: 0.35928143712574845\n",
      "ROC-AUC: 0.9675208153890326\n",
      "PR-AUC: 0.16571822778971562\n",
      "\n",
      "--- Logistic Regression + SMOTE : Neonatal Mortality ---\n",
      "Accuracy: 0.9587813620071685\n",
      "              precision    recall  f1-score   support\n",
      "\n",
      "           0       1.00      0.96      0.98      3819\n",
      "           1       0.34      0.92      0.50        87\n",
      "\n",
      "    accuracy                           0.96      3906\n",
      "   macro avg       0.67      0.94      0.74      3906\n",
      "weighted avg       0.98      0.96      0.97      3906\n",
      "\n",
      "F2 Score: 0.6872852233676976\n",
      "ROC-AUC: 0.9860949336800571\n",
      "PR-AUC: 0.6400323995425155\n"
     ]
    }
   ],
   "source": [
    "# Run for each target\n",
    "logistic_with_smote(X, df['under5_mortality'], 'Under-5 Mortality')\n",
    "logistic_with_smote(X, df['infant_mortality'], 'Infant Mortality')\n",
    "logistic_with_smote(X, df['neonatal_mortality'], 'Neonatal Mortality')"
   ]
  },
  {
   "cell_type": "code",
   "execution_count": 40,
   "id": "60a2d979",
   "metadata": {},
   "outputs": [],
   "source": [
    "from sklearn.model_selection import GridSearchCV, StratifiedKFold\n",
    "from sklearn.metrics import  make_scorer\n",
    "from sklearn.ensemble import RandomForestClassifier, GradientBoostingClassifier\n",
    "from xgboost import XGBClassifier"
   ]
  },
  {
   "cell_type": "code",
   "execution_count": 41,
   "id": "464e246b",
   "metadata": {},
   "outputs": [],
   "source": [
    "# --- Custom scorers focused on death detection ---\n",
    "def pr_auc_score(y_true, y_prob):\n",
    "    precision, recall, _ = precision_recall_curve(y_true, y_prob)\n",
    "    return auc(recall, precision)\n",
    "\n",
    "f2_scorer   = make_scorer(fbeta_score, beta=2)\n",
    "pr_auc_scorer = make_scorer(pr_auc_score, needs_proba=True)"
   ]
  },
  {
   "cell_type": "code",
   "execution_count": 42,
   "id": "96b4a29a",
   "metadata": {},
   "outputs": [],
   "source": [
    "# --- Cross-validation setup ---\n",
    "cv = StratifiedKFold(n_splits=3, shuffle=True, random_state=42)\n",
    "\n",
    "# --- Base pipeline with SMOTE inside ---\n",
    "base_pipe = Pipeline([\n",
    "    ('preprocessor', preprocessor),\n",
    "    ('smote', SMOTE(random_state=42, k_neighbors=1)),  # k_neighbors=1 handles very small minority counts\n",
    "    ('model', RandomForestClassifier())               # placeholder; will be overridden by param grid\n",
    "])"
   ]
  },
  {
   "cell_type": "code",
   "execution_count": 43,
   "id": "54f65108",
   "metadata": {},
   "outputs": [],
   "source": [
    "# --- Parameter grid for three algorithms ---\n",
    "param_grid = [\n",
    "    # Random Forest\n",
    "    {\n",
    "        'model': [RandomForestClassifier(random_state=42)],\n",
    "        'model__n_estimators': [100, 300],\n",
    "        'model__max_depth': [None, 10]\n",
    "    },\n",
    "    # Gradient Boosting\n",
    "    {\n",
    "        'model': [GradientBoostingClassifier(random_state=42)],\n",
    "        'model__n_estimators': [100, 300],\n",
    "        'model__learning_rate': [0.1, 0.05],\n",
    "        'model__max_depth': [3, 5]\n",
    "    },\n",
    "    # XGBoost\n",
    "    {\n",
    "        'model': [XGBClassifier(\n",
    "            use_label_encoder=False,\n",
    "            eval_metric='logloss',\n",
    "            random_state=42,\n",
    "            n_jobs=-1\n",
    "        )],\n",
    "        'model__n_estimators': [200, 400],\n",
    "        'model__max_depth': [3, 5],\n",
    "        'model__learning_rate': [0.1, 0.05]\n",
    "    }\n",
    "]"
   ]
  },
  {
   "cell_type": "code",
   "execution_count": 44,
   "id": "a42ccbe1",
   "metadata": {},
   "outputs": [],
   "source": [
    "# --- Grid search ---\n",
    "grid = GridSearchCV(\n",
    "    estimator=base_pipe,\n",
    "    param_grid=param_grid,\n",
    "    scoring={'F2': f2_scorer, 'PR-AUC': pr_auc_scorer},\n",
    "    refit='F2',        # best model chosen by F2\n",
    "    cv=cv,\n",
    "    n_jobs=-1,\n",
    "    verbose=1\n",
    ")"
   ]
  },
  {
   "cell_type": "code",
   "execution_count": 45,
   "id": "fbb323f0",
   "metadata": {},
   "outputs": [],
   "source": [
    "# === Function to train & evaluate for one target ===\n",
    "def train_eval_model(X, y, target_name):\n",
    "    grid.fit(X, y)\n",
    "\n",
    "    print(f\"\\n--- Best model for {target_name} ---\")\n",
    "    print(\"Estimator:\", grid.best_estimator_['model'])\n",
    "    print(\"Best F2:\", grid.best_score_)\n",
    "\n",
    "    # Evaluate on the hold-out folds already done in CV\n",
    "    # For a final external test set, split beforehand and call grid.score(X_test, y_test)\n",
    "\n",
    "    y_pred = grid.predict(X)\n",
    "    y_prob = grid.predict_proba(X)[:, 1]\n",
    "\n",
    "    print(\"\\nClassification Report:\")\n",
    "    print(classification_report(y, y_pred, digits=3))\n",
    "    print(\"Accuracy:\", accuracy_score(y, y_pred))\n",
    "    print(\"ROC-AUC:\", roc_auc_score(y, y_prob))\n",
    "    precision, recall, _ = precision_recall_curve(y, y_prob)\n",
    "    print(\"PR-AUC:\", auc(recall, precision))\n",
    "\n",
    "    # Confusion matrix\n",
    "    cm = confusion_matrix(y, y_pred)\n",
    "    plt.figure(figsize=(4,3))\n",
    "    sns.heatmap(cm, annot=True, fmt='d', cmap='Blues',\n",
    "                xticklabels=['Pred 0','Pred 1'],\n",
    "                yticklabels=['True 0','True 1'])\n",
    "    plt.title(f\"Confusion Matrix: {target_name}\")\n",
    "    plt.show()"
   ]
  },
  {
   "cell_type": "code",
   "execution_count": 46,
   "id": "673201b2",
   "metadata": {},
   "outputs": [
    {
     "name": "stdout",
     "output_type": "stream",
     "text": [
      "Fitting 3 folds for each of 20 candidates, totalling 60 fits\n",
      "\n",
      "--- Best model for Under-5 Mortality ---\n",
      "Estimator: RandomForestClassifier(max_depth=10, n_estimators=300, random_state=42)\n",
      "Best F2: 0.9802414804622938\n",
      "\n",
      "Classification Report:\n",
      "              precision    recall  f1-score   support\n",
      "\n",
      "           0      1.000     0.996     0.998     18836\n",
      "           1      0.898     1.000     0.946       694\n",
      "\n",
      "    accuracy                          0.996     19530\n",
      "   macro avg      0.949     0.998     0.972     19530\n",
      "weighted avg      0.996     0.996     0.996     19530\n",
      "\n",
      "Accuracy: 0.9959549411162314\n",
      "ROC-AUC: 0.9993503763410918\n",
      "PR-AUC: 0.9767483465666057\n"
     ]
    },
    {
     "data": {
      "image/png": "[encoded data removed]",
      "text/plain": [
       "<Figure size 400x300 with 2 Axes>"
      ]
     },
     "metadata": {},
     "output_type": "display_data"
    },
    {
     "name": "stdout",
     "output_type": "stream",
     "text": [
      "Fitting 3 folds for each of 20 candidates, totalling 60 fits\n",
      "\n",
      "--- Best model for Infant Mortality ---\n",
      "Estimator: GradientBoostingClassifier(learning_rate=0.05, random_state=42)\n",
      "Best F2: 0.6451675421893542\n",
      "\n",
      "Classification Report:\n",
      "              precision    recall  f1-score   support\n",
      "\n",
      "           0      1.000     0.977     0.988     19350\n",
      "           1      0.286     0.983     0.444       180\n",
      "\n",
      "    accuracy                          0.977     19530\n",
      "   macro avg      0.643     0.980     0.716     19530\n",
      "weighted avg      0.993     0.977     0.983     19530\n",
      "\n",
      "Accuracy: 0.9772657450076805\n",
      "ROC-AUC: 0.9916511627906976\n",
      "PR-AUC: 0.45401158057103747\n"
     ]
    },
    {
     "data": {
      "image/png": "[encoded data removed]",
      "text/plain": [
       "<Figure size 400x300 with 2 Axes>"
      ]
     },
     "metadata": {},
     "output_type": "display_data"
    },
    {
     "name": "stdout",
     "output_type": "stream",
     "text": [
      "Fitting 3 folds for each of 20 candidates, totalling 60 fits\n",
      "\n",
      "--- Best model for Neonatal Mortality ---\n",
      "Estimator: RandomForestClassifier(max_depth=10, n_estimators=300, random_state=42)\n",
      "Best F2: 0.8689379566170156\n",
      "\n",
      "Classification Report:\n",
      "              precision    recall  f1-score   support\n",
      "\n",
      "           0      1.000     0.983     0.991     19093\n",
      "           1      0.575     1.000     0.730       437\n",
      "\n",
      "    accuracy                          0.983     19530\n",
      "   macro avg      0.787     0.992     0.861     19530\n",
      "weighted avg      0.990     0.983     0.986     19530\n",
      "\n",
      "Accuracy: 0.9834613415258576\n",
      "ROC-AUC: 0.997776030871894\n",
      "PR-AUC: 0.901284111205658\n"
     ]
    },
    {
     "data": {
      "image/png": "[encoded data removed]",
      "text/plain": [
       "<Figure size 400x300 with 2 Axes>"
      ]
     },
     "metadata": {},
     "output_type": "display_data"
    }
   ],
   "source": [
    "train_eval_model(X, df['under5_mortality'], 'Under-5 Mortality')\n",
    "train_eval_model(X, df['infant_mortality'], 'Infant Mortality')\n",
    "train_eval_model(X, df['neonatal_mortality'], 'Neonatal Mortality')"
   ]
  }
 ],
 "metadata": {
  "kernelspec": {
   "display_name": "base",
   "language": "python",
   "name": "python3"
  },
  "language_info": {
   "codemirror_mode": {
    "name": "ipython",
    "version": 3
   },
   "file_extension": ".py",
   "mimetype": "text/x-python",
   "name": "python",
   "nbconvert_exporter": "python",
   "pygments_lexer": "ipython3",
   "version": "3.11.7"
  }
 },
 "nbformat": 4,
 "nbformat_minor": 5
}
